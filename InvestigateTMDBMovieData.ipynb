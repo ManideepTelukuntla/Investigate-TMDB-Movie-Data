{
 "cells": [
  {
   "cell_type": "markdown",
   "metadata": {},
   "source": [
    "# Project: Investigate TMDB Dataset\n",
    "\n",
    "## Table of Contents\n",
    "<ul>\n",
    "<li><a href=\"#intro\">Introduction</a></li>\n",
    "<li><a href=\"#ques\">Questions</a></li>\n",
    "<li><a href=\"#wrangling\">Data Wrangling</a></li>\n",
    "<li><a href=\"#eda\">Exploratory Data Analysis</a></li>\n",
    "<li><a href=\"#conclusions\">Conclusions</a></li>\n",
    "</ul>"
   ]
  },
  {
   "cell_type": "markdown",
   "metadata": {},
   "source": [
    "<a id='intro'></a>\n",
    "## Introduction\n",
    "\n",
    "> The dataset that I have selected for investigating is a dataset that contains information about 10,000 movies collected from The Movie Database(TMDb), including user ratings and revenue.\n",
    ">\n",
    "<a id='ques'></a>\n",
    "## Questions\n",
    "\n",
    "1. These are the following questions I want to analyze using this dataset:\n",
    "    - Which genres are receiving higher user ratings?\n",
    "    - What kinds of properties are associated with movies that have high revenues? \n",
    "    - Does higher budget movies have higher user ratings?"
   ]
  },
  {
   "cell_type": "code",
   "execution_count": 19,
   "metadata": {},
   "outputs": [],
   "source": [
    "# import packages\n",
    "import numpy as np\n",
    "import pandas as pd\n",
    "import seaborn as sns\n",
    "import matplotlib.pyplot as plt\n",
    "\n",
    "%matplotlib inline\n",
    "sns.set_style('darkgrid')"
   ]
  },
  {
   "cell_type": "markdown",
   "metadata": {},
   "source": [
    "<a id='wrangling'></a>\n",
    "## Data Wrangling\n",
    "\n",
    "> In this section of the report, I will load in the data, check for cleanliness, and then trim and clean my dataset for analysis.\n",
    "### General Properties"
   ]
  },
  {
   "cell_type": "code",
   "execution_count": 20,
   "metadata": {},
   "outputs": [],
   "source": [
    "# load data\n",
    "file_path = 'tmdb_movies.csv'\n",
    "movie_df = pd.read_csv(file_path)"
   ]
  },
  {
   "cell_type": "code",
   "execution_count": 21,
   "metadata": {},
   "outputs": [
    {
     "data": {
      "text/html": [
       "<div>\n",
       "<style scoped>\n",
       "    .dataframe tbody tr th:only-of-type {\n",
       "        vertical-align: middle;\n",
       "    }\n",
       "\n",
       "    .dataframe tbody tr th {\n",
       "        vertical-align: top;\n",
       "    }\n",
       "\n",
       "    .dataframe thead th {\n",
       "        text-align: right;\n",
       "    }\n",
       "</style>\n",
       "<table border=\"1\" class=\"dataframe\">\n",
       "  <thead>\n",
       "    <tr style=\"text-align: right;\">\n",
       "      <th></th>\n",
       "      <th>id</th>\n",
       "      <th>imdb_id</th>\n",
       "      <th>popularity</th>\n",
       "      <th>budget</th>\n",
       "      <th>revenue</th>\n",
       "      <th>original_title</th>\n",
       "      <th>cast</th>\n",
       "      <th>homepage</th>\n",
       "      <th>director</th>\n",
       "      <th>tagline</th>\n",
       "      <th>...</th>\n",
       "      <th>overview</th>\n",
       "      <th>runtime</th>\n",
       "      <th>genres</th>\n",
       "      <th>production_companies</th>\n",
       "      <th>release_date</th>\n",
       "      <th>vote_count</th>\n",
       "      <th>vote_average</th>\n",
       "      <th>release_year</th>\n",
       "      <th>budget_adj</th>\n",
       "      <th>revenue_adj</th>\n",
       "    </tr>\n",
       "  </thead>\n",
       "  <tbody>\n",
       "    <tr>\n",
       "      <td>0</td>\n",
       "      <td>135397</td>\n",
       "      <td>tt0369610</td>\n",
       "      <td>32.985763</td>\n",
       "      <td>150000000</td>\n",
       "      <td>1513528810</td>\n",
       "      <td>Jurassic World</td>\n",
       "      <td>Chris Pratt|Bryce Dallas Howard|Irrfan Khan|Vi...</td>\n",
       "      <td>http://www.jurassicworld.com/</td>\n",
       "      <td>Colin Trevorrow</td>\n",
       "      <td>The park is open.</td>\n",
       "      <td>...</td>\n",
       "      <td>Twenty-two years after the events of Jurassic ...</td>\n",
       "      <td>124</td>\n",
       "      <td>Action|Adventure|Science Fiction|Thriller</td>\n",
       "      <td>Universal Studios|Amblin Entertainment|Legenda...</td>\n",
       "      <td>6/9/15</td>\n",
       "      <td>5562</td>\n",
       "      <td>6.5</td>\n",
       "      <td>2015</td>\n",
       "      <td>1.379999e+08</td>\n",
       "      <td>1.392446e+09</td>\n",
       "    </tr>\n",
       "    <tr>\n",
       "      <td>1</td>\n",
       "      <td>76341</td>\n",
       "      <td>tt1392190</td>\n",
       "      <td>28.419936</td>\n",
       "      <td>150000000</td>\n",
       "      <td>378436354</td>\n",
       "      <td>Mad Max: Fury Road</td>\n",
       "      <td>Tom Hardy|Charlize Theron|Hugh Keays-Byrne|Nic...</td>\n",
       "      <td>http://www.madmaxmovie.com/</td>\n",
       "      <td>George Miller</td>\n",
       "      <td>What a Lovely Day.</td>\n",
       "      <td>...</td>\n",
       "      <td>An apocalyptic story set in the furthest reach...</td>\n",
       "      <td>120</td>\n",
       "      <td>Action|Adventure|Science Fiction|Thriller</td>\n",
       "      <td>Village Roadshow Pictures|Kennedy Miller Produ...</td>\n",
       "      <td>5/13/15</td>\n",
       "      <td>6185</td>\n",
       "      <td>7.1</td>\n",
       "      <td>2015</td>\n",
       "      <td>1.379999e+08</td>\n",
       "      <td>3.481613e+08</td>\n",
       "    </tr>\n",
       "    <tr>\n",
       "      <td>2</td>\n",
       "      <td>262500</td>\n",
       "      <td>tt2908446</td>\n",
       "      <td>13.112507</td>\n",
       "      <td>110000000</td>\n",
       "      <td>295238201</td>\n",
       "      <td>Insurgent</td>\n",
       "      <td>Shailene Woodley|Theo James|Kate Winslet|Ansel...</td>\n",
       "      <td>http://www.thedivergentseries.movie/#insurgent</td>\n",
       "      <td>Robert Schwentke</td>\n",
       "      <td>One Choice Can Destroy You</td>\n",
       "      <td>...</td>\n",
       "      <td>Beatrice Prior must confront her inner demons ...</td>\n",
       "      <td>119</td>\n",
       "      <td>Adventure|Science Fiction|Thriller</td>\n",
       "      <td>Summit Entertainment|Mandeville Films|Red Wago...</td>\n",
       "      <td>3/18/15</td>\n",
       "      <td>2480</td>\n",
       "      <td>6.3</td>\n",
       "      <td>2015</td>\n",
       "      <td>1.012000e+08</td>\n",
       "      <td>2.716190e+08</td>\n",
       "    </tr>\n",
       "    <tr>\n",
       "      <td>3</td>\n",
       "      <td>140607</td>\n",
       "      <td>tt2488496</td>\n",
       "      <td>11.173104</td>\n",
       "      <td>200000000</td>\n",
       "      <td>2068178225</td>\n",
       "      <td>Star Wars: The Force Awakens</td>\n",
       "      <td>Harrison Ford|Mark Hamill|Carrie Fisher|Adam D...</td>\n",
       "      <td>http://www.starwars.com/films/star-wars-episod...</td>\n",
       "      <td>J.J. Abrams</td>\n",
       "      <td>Every generation has a story.</td>\n",
       "      <td>...</td>\n",
       "      <td>Thirty years after defeating the Galactic Empi...</td>\n",
       "      <td>136</td>\n",
       "      <td>Action|Adventure|Science Fiction|Fantasy</td>\n",
       "      <td>Lucasfilm|Truenorth Productions|Bad Robot</td>\n",
       "      <td>12/15/15</td>\n",
       "      <td>5292</td>\n",
       "      <td>7.5</td>\n",
       "      <td>2015</td>\n",
       "      <td>1.839999e+08</td>\n",
       "      <td>1.902723e+09</td>\n",
       "    </tr>\n",
       "    <tr>\n",
       "      <td>4</td>\n",
       "      <td>168259</td>\n",
       "      <td>tt2820852</td>\n",
       "      <td>9.335014</td>\n",
       "      <td>190000000</td>\n",
       "      <td>1506249360</td>\n",
       "      <td>Furious 7</td>\n",
       "      <td>Vin Diesel|Paul Walker|Jason Statham|Michelle ...</td>\n",
       "      <td>http://www.furious7.com/</td>\n",
       "      <td>James Wan</td>\n",
       "      <td>Vengeance Hits Home</td>\n",
       "      <td>...</td>\n",
       "      <td>Deckard Shaw seeks revenge against Dominic Tor...</td>\n",
       "      <td>137</td>\n",
       "      <td>Action|Crime|Thriller</td>\n",
       "      <td>Universal Pictures|Original Film|Media Rights ...</td>\n",
       "      <td>4/1/15</td>\n",
       "      <td>2947</td>\n",
       "      <td>7.3</td>\n",
       "      <td>2015</td>\n",
       "      <td>1.747999e+08</td>\n",
       "      <td>1.385749e+09</td>\n",
       "    </tr>\n",
       "  </tbody>\n",
       "</table>\n",
       "<p>5 rows × 21 columns</p>\n",
       "</div>"
      ],
      "text/plain": [
       "       id    imdb_id  popularity     budget     revenue  \\\n",
       "0  135397  tt0369610   32.985763  150000000  1513528810   \n",
       "1   76341  tt1392190   28.419936  150000000   378436354   \n",
       "2  262500  tt2908446   13.112507  110000000   295238201   \n",
       "3  140607  tt2488496   11.173104  200000000  2068178225   \n",
       "4  168259  tt2820852    9.335014  190000000  1506249360   \n",
       "\n",
       "                 original_title  \\\n",
       "0                Jurassic World   \n",
       "1            Mad Max: Fury Road   \n",
       "2                     Insurgent   \n",
       "3  Star Wars: The Force Awakens   \n",
       "4                     Furious 7   \n",
       "\n",
       "                                                cast  \\\n",
       "0  Chris Pratt|Bryce Dallas Howard|Irrfan Khan|Vi...   \n",
       "1  Tom Hardy|Charlize Theron|Hugh Keays-Byrne|Nic...   \n",
       "2  Shailene Woodley|Theo James|Kate Winslet|Ansel...   \n",
       "3  Harrison Ford|Mark Hamill|Carrie Fisher|Adam D...   \n",
       "4  Vin Diesel|Paul Walker|Jason Statham|Michelle ...   \n",
       "\n",
       "                                            homepage          director  \\\n",
       "0                      http://www.jurassicworld.com/   Colin Trevorrow   \n",
       "1                        http://www.madmaxmovie.com/     George Miller   \n",
       "2     http://www.thedivergentseries.movie/#insurgent  Robert Schwentke   \n",
       "3  http://www.starwars.com/films/star-wars-episod...       J.J. Abrams   \n",
       "4                           http://www.furious7.com/         James Wan   \n",
       "\n",
       "                         tagline  ...  \\\n",
       "0              The park is open.  ...   \n",
       "1             What a Lovely Day.  ...   \n",
       "2     One Choice Can Destroy You  ...   \n",
       "3  Every generation has a story.  ...   \n",
       "4            Vengeance Hits Home  ...   \n",
       "\n",
       "                                            overview runtime  \\\n",
       "0  Twenty-two years after the events of Jurassic ...     124   \n",
       "1  An apocalyptic story set in the furthest reach...     120   \n",
       "2  Beatrice Prior must confront her inner demons ...     119   \n",
       "3  Thirty years after defeating the Galactic Empi...     136   \n",
       "4  Deckard Shaw seeks revenge against Dominic Tor...     137   \n",
       "\n",
       "                                      genres  \\\n",
       "0  Action|Adventure|Science Fiction|Thriller   \n",
       "1  Action|Adventure|Science Fiction|Thriller   \n",
       "2         Adventure|Science Fiction|Thriller   \n",
       "3   Action|Adventure|Science Fiction|Fantasy   \n",
       "4                      Action|Crime|Thriller   \n",
       "\n",
       "                                production_companies release_date vote_count  \\\n",
       "0  Universal Studios|Amblin Entertainment|Legenda...       6/9/15       5562   \n",
       "1  Village Roadshow Pictures|Kennedy Miller Produ...      5/13/15       6185   \n",
       "2  Summit Entertainment|Mandeville Films|Red Wago...      3/18/15       2480   \n",
       "3          Lucasfilm|Truenorth Productions|Bad Robot     12/15/15       5292   \n",
       "4  Universal Pictures|Original Film|Media Rights ...       4/1/15       2947   \n",
       "\n",
       "   vote_average  release_year    budget_adj   revenue_adj  \n",
       "0           6.5          2015  1.379999e+08  1.392446e+09  \n",
       "1           7.1          2015  1.379999e+08  3.481613e+08  \n",
       "2           6.3          2015  1.012000e+08  2.716190e+08  \n",
       "3           7.5          2015  1.839999e+08  1.902723e+09  \n",
       "4           7.3          2015  1.747999e+08  1.385749e+09  \n",
       "\n",
       "[5 rows x 21 columns]"
      ]
     },
     "execution_count": 21,
     "metadata": {},
     "output_type": "execute_result"
    }
   ],
   "source": [
    "# view data\n",
    "movie_df.head()"
   ]
  },
  {
   "cell_type": "code",
   "execution_count": 22,
   "metadata": {},
   "outputs": [
    {
     "name": "stdout",
     "output_type": "stream",
     "text": [
      "Number of Movies: 10866\n",
      "Number of Movie Attributes: 21\n"
     ]
    }
   ],
   "source": [
    "# shape of the data\n",
    "print('Number of Movies: {}'.format(movie_df.shape[0]))\n",
    "print('Number of Movie Attributes: {}'.format(movie_df.shape[1]))"
   ]
  },
  {
   "cell_type": "code",
   "execution_count": 23,
   "metadata": {},
   "outputs": [
    {
     "data": {
      "text/plain": [
       "id                         0\n",
       "imdb_id                   10\n",
       "popularity                 0\n",
       "budget                     0\n",
       "revenue                    0\n",
       "original_title             0\n",
       "cast                      76\n",
       "homepage                7930\n",
       "director                  44\n",
       "tagline                 2824\n",
       "keywords                1493\n",
       "overview                   4\n",
       "runtime                    0\n",
       "genres                    23\n",
       "production_companies    1030\n",
       "release_date               0\n",
       "vote_count                 0\n",
       "vote_average               0\n",
       "release_year               0\n",
       "budget_adj                 0\n",
       "revenue_adj                0\n",
       "dtype: int64"
      ]
     },
     "execution_count": 23,
     "metadata": {},
     "output_type": "execute_result"
    }
   ],
   "source": [
    "# number of nulls in each column\n",
    "movie_df.isnull().sum()"
   ]
  },
  {
   "cell_type": "markdown",
   "metadata": {},
   "source": [
    "### Data Cleaning"
   ]
  },
  {
   "cell_type": "markdown",
   "metadata": {},
   "source": [
    ">### Observation 1\n",
    "After investigating dataset for number of nulls in each column, this is what I found:\n",
    "- **homepage** has `7930` nulls\n",
    "- **tagline** has `2824` nulls\n",
    "- **keywords** has `1493` nulls\n",
    "- **cast** has `76` nulls\n",
    "- **overview** has `4` nulls\n",
    "- **imdb_id** has `10` nulls\n",
    "- **release_date**\n",
    "\n",
    "There are also other columns with nulls but I decided to drop these columns from my dataframe as there are lot of nulls and if you observe there are some columns with less number of nulls that I'm gonna drop as these columns are not much useful for my analysis.\n",
    "\n",
    "And talking about the remaining nulls I'm gonna handle them in my next steps."
   ]
  },
  {
   "cell_type": "code",
   "execution_count": 24,
   "metadata": {},
   "outputs": [],
   "source": [
    "# drop homepage, tagline, keywords, overview, and imdb_id columns\n",
    "drop_columns = ['imdb_id', 'homepage', 'tagline', 'keywords', 'overview', 'release_date', 'cast']\n",
    "movie_df.drop(columns = drop_columns, inplace = True)"
   ]
  },
  {
   "cell_type": "code",
   "execution_count": 25,
   "metadata": {},
   "outputs": [
    {
     "name": "stdout",
     "output_type": "stream",
     "text": [
      "Number of Movies: 10866\n",
      "Number of Movie Attributes: 14\n"
     ]
    }
   ],
   "source": [
    "# verify with shape\n",
    "print('Number of Movies: {}'.format(movie_df.shape[0]))\n",
    "print('Number of Movie Attributes: {}'.format(movie_df.shape[1]))"
   ]
  },
  {
   "cell_type": "code",
   "execution_count": 26,
   "metadata": {},
   "outputs": [
    {
     "data": {
      "text/html": [
       "<div>\n",
       "<style scoped>\n",
       "    .dataframe tbody tr th:only-of-type {\n",
       "        vertical-align: middle;\n",
       "    }\n",
       "\n",
       "    .dataframe tbody tr th {\n",
       "        vertical-align: top;\n",
       "    }\n",
       "\n",
       "    .dataframe thead th {\n",
       "        text-align: right;\n",
       "    }\n",
       "</style>\n",
       "<table border=\"1\" class=\"dataframe\">\n",
       "  <thead>\n",
       "    <tr style=\"text-align: right;\">\n",
       "      <th></th>\n",
       "      <th>id</th>\n",
       "      <th>popularity</th>\n",
       "      <th>budget</th>\n",
       "      <th>revenue</th>\n",
       "      <th>original_title</th>\n",
       "      <th>director</th>\n",
       "      <th>runtime</th>\n",
       "      <th>genres</th>\n",
       "      <th>production_companies</th>\n",
       "      <th>vote_count</th>\n",
       "      <th>vote_average</th>\n",
       "      <th>release_year</th>\n",
       "      <th>budget_adj</th>\n",
       "      <th>revenue_adj</th>\n",
       "    </tr>\n",
       "  </thead>\n",
       "  <tbody>\n",
       "    <tr>\n",
       "      <td>2090</td>\n",
       "      <td>42194</td>\n",
       "      <td>0.59643</td>\n",
       "      <td>30000000</td>\n",
       "      <td>967000</td>\n",
       "      <td>TEKKEN</td>\n",
       "      <td>Dwight H. Little</td>\n",
       "      <td>92</td>\n",
       "      <td>Crime|Drama|Action|Thriller|Science Fiction</td>\n",
       "      <td>Namco|Light Song Films</td>\n",
       "      <td>110</td>\n",
       "      <td>5.0</td>\n",
       "      <td>2010</td>\n",
       "      <td>30000000.0</td>\n",
       "      <td>967000.0</td>\n",
       "    </tr>\n",
       "  </tbody>\n",
       "</table>\n",
       "</div>"
      ],
      "text/plain": [
       "         id  popularity    budget  revenue original_title          director  \\\n",
       "2090  42194     0.59643  30000000   967000         TEKKEN  Dwight H. Little   \n",
       "\n",
       "      runtime                                       genres  \\\n",
       "2090       92  Crime|Drama|Action|Thriller|Science Fiction   \n",
       "\n",
       "        production_companies  vote_count  vote_average  release_year  \\\n",
       "2090  Namco|Light Song Films         110           5.0          2010   \n",
       "\n",
       "      budget_adj  revenue_adj  \n",
       "2090  30000000.0     967000.0  "
      ]
     },
     "execution_count": 26,
     "metadata": {},
     "output_type": "execute_result"
    }
   ],
   "source": [
    "# finding duplicates\n",
    "movie_df[movie_df.duplicated()]"
   ]
  },
  {
   "cell_type": "code",
   "execution_count": 27,
   "metadata": {},
   "outputs": [],
   "source": [
    "movie_df.drop_duplicates(inplace = True)"
   ]
  },
  {
   "cell_type": "code",
   "execution_count": 28,
   "metadata": {},
   "outputs": [
    {
     "name": "stdout",
     "output_type": "stream",
     "text": [
      "Your data contains 0 duplicates\n"
     ]
    }
   ],
   "source": [
    "# verify duplicates\n",
    "print('Your data contains {} duplicates'.format(movie_df.duplicated().sum()))"
   ]
  },
  {
   "cell_type": "markdown",
   "metadata": {},
   "source": [
    ">### Observation 2\n",
    "After inspecting for duplicates in my dataframe there is only one duplicate and I dropped it from my dataframe."
   ]
  },
  {
   "cell_type": "code",
   "execution_count": 29,
   "metadata": {},
   "outputs": [
    {
     "data": {
      "text/html": [
       "<div>\n",
       "<style scoped>\n",
       "    .dataframe tbody tr th:only-of-type {\n",
       "        vertical-align: middle;\n",
       "    }\n",
       "\n",
       "    .dataframe tbody tr th {\n",
       "        vertical-align: top;\n",
       "    }\n",
       "\n",
       "    .dataframe thead th {\n",
       "        text-align: right;\n",
       "    }\n",
       "</style>\n",
       "<table border=\"1\" class=\"dataframe\">\n",
       "  <thead>\n",
       "    <tr style=\"text-align: right;\">\n",
       "      <th></th>\n",
       "      <th>id</th>\n",
       "      <th>popularity</th>\n",
       "      <th>budget</th>\n",
       "      <th>revenue</th>\n",
       "      <th>original_title</th>\n",
       "      <th>director</th>\n",
       "      <th>runtime</th>\n",
       "      <th>genres</th>\n",
       "      <th>production_companies</th>\n",
       "      <th>vote_count</th>\n",
       "      <th>vote_average</th>\n",
       "      <th>release_year</th>\n",
       "      <th>budget_adj</th>\n",
       "      <th>revenue_adj</th>\n",
       "    </tr>\n",
       "  </thead>\n",
       "  <tbody>\n",
       "    <tr>\n",
       "      <td>228</td>\n",
       "      <td>300792</td>\n",
       "      <td>0.584363</td>\n",
       "      <td>0</td>\n",
       "      <td>0</td>\n",
       "      <td>Racing Extinction</td>\n",
       "      <td>Louie Psihoyos</td>\n",
       "      <td>90</td>\n",
       "      <td>Adventure|Documentary</td>\n",
       "      <td>NaN</td>\n",
       "      <td>36</td>\n",
       "      <td>7.8</td>\n",
       "      <td>2015</td>\n",
       "      <td>0.0</td>\n",
       "      <td>0.0</td>\n",
       "    </tr>\n",
       "    <tr>\n",
       "      <td>259</td>\n",
       "      <td>360603</td>\n",
       "      <td>0.476341</td>\n",
       "      <td>0</td>\n",
       "      <td>0</td>\n",
       "      <td>Crown for Christmas</td>\n",
       "      <td>Alex Zamm</td>\n",
       "      <td>84</td>\n",
       "      <td>TV Movie</td>\n",
       "      <td>NaN</td>\n",
       "      <td>10</td>\n",
       "      <td>7.6</td>\n",
       "      <td>2015</td>\n",
       "      <td>0.0</td>\n",
       "      <td>0.0</td>\n",
       "    </tr>\n",
       "    <tr>\n",
       "      <td>295</td>\n",
       "      <td>363483</td>\n",
       "      <td>0.417191</td>\n",
       "      <td>0</td>\n",
       "      <td>0</td>\n",
       "      <td>12 Gifts of Christmas</td>\n",
       "      <td>Peter Sullivan</td>\n",
       "      <td>84</td>\n",
       "      <td>Family|TV Movie</td>\n",
       "      <td>NaN</td>\n",
       "      <td>12</td>\n",
       "      <td>6.3</td>\n",
       "      <td>2015</td>\n",
       "      <td>0.0</td>\n",
       "      <td>0.0</td>\n",
       "    </tr>\n",
       "    <tr>\n",
       "      <td>298</td>\n",
       "      <td>354220</td>\n",
       "      <td>0.370258</td>\n",
       "      <td>0</td>\n",
       "      <td>0</td>\n",
       "      <td>The Girl in the Photographs</td>\n",
       "      <td>Nick Simon</td>\n",
       "      <td>95</td>\n",
       "      <td>Crime|Horror|Thriller</td>\n",
       "      <td>NaN</td>\n",
       "      <td>10</td>\n",
       "      <td>4.7</td>\n",
       "      <td>2015</td>\n",
       "      <td>0.0</td>\n",
       "      <td>0.0</td>\n",
       "    </tr>\n",
       "    <tr>\n",
       "      <td>328</td>\n",
       "      <td>308457</td>\n",
       "      <td>0.367617</td>\n",
       "      <td>0</td>\n",
       "      <td>0</td>\n",
       "      <td>Advantageous</td>\n",
       "      <td>Jennifer Phang</td>\n",
       "      <td>92</td>\n",
       "      <td>Science Fiction|Drama|Family</td>\n",
       "      <td>NaN</td>\n",
       "      <td>29</td>\n",
       "      <td>6.4</td>\n",
       "      <td>2015</td>\n",
       "      <td>0.0</td>\n",
       "      <td>0.0</td>\n",
       "    </tr>\n",
       "    <tr>\n",
       "      <td>...</td>\n",
       "      <td>...</td>\n",
       "      <td>...</td>\n",
       "      <td>...</td>\n",
       "      <td>...</td>\n",
       "      <td>...</td>\n",
       "      <td>...</td>\n",
       "      <td>...</td>\n",
       "      <td>...</td>\n",
       "      <td>...</td>\n",
       "      <td>...</td>\n",
       "      <td>...</td>\n",
       "      <td>...</td>\n",
       "      <td>...</td>\n",
       "      <td>...</td>\n",
       "    </tr>\n",
       "    <tr>\n",
       "      <td>10804</td>\n",
       "      <td>15867</td>\n",
       "      <td>0.149259</td>\n",
       "      <td>0</td>\n",
       "      <td>0</td>\n",
       "      <td>Interiors</td>\n",
       "      <td>Woody Allen</td>\n",
       "      <td>93</td>\n",
       "      <td>Drama</td>\n",
       "      <td>NaN</td>\n",
       "      <td>35</td>\n",
       "      <td>6.3</td>\n",
       "      <td>1978</td>\n",
       "      <td>0.0</td>\n",
       "      <td>0.0</td>\n",
       "    </tr>\n",
       "    <tr>\n",
       "      <td>10806</td>\n",
       "      <td>24998</td>\n",
       "      <td>0.138635</td>\n",
       "      <td>0</td>\n",
       "      <td>0</td>\n",
       "      <td>Gates of Heaven</td>\n",
       "      <td>Errol Morris</td>\n",
       "      <td>85</td>\n",
       "      <td>Documentary</td>\n",
       "      <td>NaN</td>\n",
       "      <td>12</td>\n",
       "      <td>5.9</td>\n",
       "      <td>1978</td>\n",
       "      <td>0.0</td>\n",
       "      <td>0.0</td>\n",
       "    </tr>\n",
       "    <tr>\n",
       "      <td>10816</td>\n",
       "      <td>16378</td>\n",
       "      <td>0.064602</td>\n",
       "      <td>0</td>\n",
       "      <td>0</td>\n",
       "      <td>The Rutles: All You Need Is Cash</td>\n",
       "      <td>Eric Idle|Gary Weis</td>\n",
       "      <td>76</td>\n",
       "      <td>Comedy</td>\n",
       "      <td>NaN</td>\n",
       "      <td>14</td>\n",
       "      <td>6.0</td>\n",
       "      <td>1978</td>\n",
       "      <td>0.0</td>\n",
       "      <td>0.0</td>\n",
       "    </tr>\n",
       "    <tr>\n",
       "      <td>10842</td>\n",
       "      <td>36540</td>\n",
       "      <td>0.253437</td>\n",
       "      <td>0</td>\n",
       "      <td>0</td>\n",
       "      <td>Winnie the Pooh and the Honey Tree</td>\n",
       "      <td>Wolfgang Reitherman</td>\n",
       "      <td>25</td>\n",
       "      <td>Animation|Family</td>\n",
       "      <td>NaN</td>\n",
       "      <td>12</td>\n",
       "      <td>7.9</td>\n",
       "      <td>1966</td>\n",
       "      <td>0.0</td>\n",
       "      <td>0.0</td>\n",
       "    </tr>\n",
       "    <tr>\n",
       "      <td>10853</td>\n",
       "      <td>15598</td>\n",
       "      <td>0.163592</td>\n",
       "      <td>0</td>\n",
       "      <td>0</td>\n",
       "      <td>Alfie</td>\n",
       "      <td>Lewis Gilbert</td>\n",
       "      <td>114</td>\n",
       "      <td>Comedy|Drama|Romance</td>\n",
       "      <td>NaN</td>\n",
       "      <td>26</td>\n",
       "      <td>6.2</td>\n",
       "      <td>1966</td>\n",
       "      <td>0.0</td>\n",
       "      <td>0.0</td>\n",
       "    </tr>\n",
       "  </tbody>\n",
       "</table>\n",
       "<p>1059 rows × 14 columns</p>\n",
       "</div>"
      ],
      "text/plain": [
       "           id  popularity  budget  revenue  \\\n",
       "228    300792    0.584363       0        0   \n",
       "259    360603    0.476341       0        0   \n",
       "295    363483    0.417191       0        0   \n",
       "298    354220    0.370258       0        0   \n",
       "328    308457    0.367617       0        0   \n",
       "...       ...         ...     ...      ...   \n",
       "10804   15867    0.149259       0        0   \n",
       "10806   24998    0.138635       0        0   \n",
       "10816   16378    0.064602       0        0   \n",
       "10842   36540    0.253437       0        0   \n",
       "10853   15598    0.163592       0        0   \n",
       "\n",
       "                           original_title             director  runtime  \\\n",
       "228                     Racing Extinction       Louie Psihoyos       90   \n",
       "259                   Crown for Christmas            Alex Zamm       84   \n",
       "295                 12 Gifts of Christmas       Peter Sullivan       84   \n",
       "298           The Girl in the Photographs           Nick Simon       95   \n",
       "328                          Advantageous       Jennifer Phang       92   \n",
       "...                                   ...                  ...      ...   \n",
       "10804                           Interiors          Woody Allen       93   \n",
       "10806                     Gates of Heaven         Errol Morris       85   \n",
       "10816    The Rutles: All You Need Is Cash  Eric Idle|Gary Weis       76   \n",
       "10842  Winnie the Pooh and the Honey Tree  Wolfgang Reitherman       25   \n",
       "10853                               Alfie        Lewis Gilbert      114   \n",
       "\n",
       "                             genres production_companies  vote_count  \\\n",
       "228           Adventure|Documentary                  NaN          36   \n",
       "259                        TV Movie                  NaN          10   \n",
       "295                 Family|TV Movie                  NaN          12   \n",
       "298           Crime|Horror|Thriller                  NaN          10   \n",
       "328    Science Fiction|Drama|Family                  NaN          29   \n",
       "...                             ...                  ...         ...   \n",
       "10804                         Drama                  NaN          35   \n",
       "10806                   Documentary                  NaN          12   \n",
       "10816                        Comedy                  NaN          14   \n",
       "10842              Animation|Family                  NaN          12   \n",
       "10853          Comedy|Drama|Romance                  NaN          26   \n",
       "\n",
       "       vote_average  release_year  budget_adj  revenue_adj  \n",
       "228             7.8          2015         0.0          0.0  \n",
       "259             7.6          2015         0.0          0.0  \n",
       "295             6.3          2015         0.0          0.0  \n",
       "298             4.7          2015         0.0          0.0  \n",
       "328             6.4          2015         0.0          0.0  \n",
       "...             ...           ...         ...          ...  \n",
       "10804           6.3          1978         0.0          0.0  \n",
       "10806           5.9          1978         0.0          0.0  \n",
       "10816           6.0          1978         0.0          0.0  \n",
       "10842           7.9          1966         0.0          0.0  \n",
       "10853           6.2          1966         0.0          0.0  \n",
       "\n",
       "[1059 rows x 14 columns]"
      ]
     },
     "execution_count": 29,
     "metadata": {},
     "output_type": "execute_result"
    }
   ],
   "source": [
    "# finding rows with missing values\n",
    "movie_df[movie_df.isnull().any(axis = 1)]"
   ]
  },
  {
   "cell_type": "markdown",
   "metadata": {},
   "source": [
    ">### Observation 3\n",
    "After inspecting the number of rows with missing values I have decided to drop them from my dataframe."
   ]
  },
  {
   "cell_type": "code",
   "execution_count": 30,
   "metadata": {},
   "outputs": [],
   "source": [
    "# drop rows with missing columns\n",
    "movie_df.drop(index = movie_df[movie_df.isnull().any(axis = 1)].index, inplace = True)"
   ]
  },
  {
   "cell_type": "code",
   "execution_count": 31,
   "metadata": {},
   "outputs": [
    {
     "name": "stdout",
     "output_type": "stream",
     "text": [
      "Your data contains 0 missing values\n"
     ]
    }
   ],
   "source": [
    "# verfiy for missing values\n",
    "print('Your data contains {} missing values'.format(movie_df.isnull().sum().sum()))"
   ]
  },
  {
   "cell_type": "code",
   "execution_count": 32,
   "metadata": {},
   "outputs": [
    {
     "data": {
      "text/plain": [
       "id                        int64\n",
       "popularity              float64\n",
       "budget                    int64\n",
       "revenue                   int64\n",
       "original_title           object\n",
       "director                 object\n",
       "runtime                   int64\n",
       "genres                   object\n",
       "production_companies     object\n",
       "vote_count                int64\n",
       "vote_average            float64\n",
       "release_year              int64\n",
       "budget_adj              float64\n",
       "revenue_adj             float64\n",
       "dtype: object"
      ]
     },
     "execution_count": 32,
     "metadata": {},
     "output_type": "execute_result"
    }
   ],
   "source": [
    "# inspect data types\n",
    "movie_df.dtypes"
   ]
  },
  {
   "cell_type": "markdown",
   "metadata": {},
   "source": [
    ">### Observation 4\n",
    "After inspecting for data types I decided to perform following things:\n",
    "- Convert `budget`, `revenue` and `runtime` columns to floats"
   ]
  },
  {
   "cell_type": "code",
   "execution_count": 33,
   "metadata": {},
   "outputs": [],
   "source": [
    "# Convert budget, revenue and runtime columns to floats\n",
    "movie_df[['budget', 'revenue']] = movie_df[['budget', 'revenue']].astype(float)"
   ]
  },
  {
   "cell_type": "code",
   "execution_count": 34,
   "metadata": {},
   "outputs": [
    {
     "data": {
      "text/plain": [
       "id                        int64\n",
       "popularity              float64\n",
       "budget                  float64\n",
       "revenue                 float64\n",
       "original_title           object\n",
       "director                 object\n",
       "runtime                   int64\n",
       "genres                   object\n",
       "production_companies     object\n",
       "vote_count                int64\n",
       "vote_average            float64\n",
       "release_year              int64\n",
       "budget_adj              float64\n",
       "revenue_adj             float64\n",
       "dtype: object"
      ]
     },
     "execution_count": 34,
     "metadata": {},
     "output_type": "execute_result"
    }
   ],
   "source": [
    "# verify data types\n",
    "movie_df.dtypes"
   ]
  },
  {
   "cell_type": "code",
   "execution_count": 35,
   "metadata": {},
   "outputs": [
    {
     "data": {
      "text/html": [
       "<div>\n",
       "<style scoped>\n",
       "    .dataframe tbody tr th:only-of-type {\n",
       "        vertical-align: middle;\n",
       "    }\n",
       "\n",
       "    .dataframe tbody tr th {\n",
       "        vertical-align: top;\n",
       "    }\n",
       "\n",
       "    .dataframe thead th {\n",
       "        text-align: right;\n",
       "    }\n",
       "</style>\n",
       "<table border=\"1\" class=\"dataframe\">\n",
       "  <thead>\n",
       "    <tr style=\"text-align: right;\">\n",
       "      <th></th>\n",
       "      <th>id</th>\n",
       "      <th>popularity</th>\n",
       "      <th>budget</th>\n",
       "      <th>revenue</th>\n",
       "      <th>runtime</th>\n",
       "      <th>vote_count</th>\n",
       "      <th>vote_average</th>\n",
       "      <th>release_year</th>\n",
       "      <th>budget_adj</th>\n",
       "      <th>revenue_adj</th>\n",
       "    </tr>\n",
       "  </thead>\n",
       "  <tbody>\n",
       "    <tr>\n",
       "      <td>count</td>\n",
       "      <td>9806.000000</td>\n",
       "      <td>9806.000000</td>\n",
       "      <td>9.806000e+03</td>\n",
       "      <td>9.806000e+03</td>\n",
       "      <td>9806.000000</td>\n",
       "      <td>9806.000000</td>\n",
       "      <td>9806.000000</td>\n",
       "      <td>9806.000000</td>\n",
       "      <td>9.806000e+03</td>\n",
       "      <td>9.806000e+03</td>\n",
       "    </tr>\n",
       "    <tr>\n",
       "      <td>mean</td>\n",
       "      <td>63287.653783</td>\n",
       "      <td>0.693143</td>\n",
       "      <td>1.612525e+07</td>\n",
       "      <td>4.407785e+07</td>\n",
       "      <td>102.744340</td>\n",
       "      <td>238.622578</td>\n",
       "      <td>5.966459</td>\n",
       "      <td>2000.890271</td>\n",
       "      <td>1.935070e+07</td>\n",
       "      <td>5.685528e+07</td>\n",
       "    </tr>\n",
       "    <tr>\n",
       "      <td>std</td>\n",
       "      <td>90808.473021</td>\n",
       "      <td>1.035525</td>\n",
       "      <td>3.216819e+07</td>\n",
       "      <td>1.224038e+08</td>\n",
       "      <td>28.134561</td>\n",
       "      <td>602.081472</td>\n",
       "      <td>0.914291</td>\n",
       "      <td>13.032372</td>\n",
       "      <td>3.562179e+07</td>\n",
       "      <td>1.512243e+08</td>\n",
       "    </tr>\n",
       "    <tr>\n",
       "      <td>min</td>\n",
       "      <td>5.000000</td>\n",
       "      <td>0.000188</td>\n",
       "      <td>0.000000e+00</td>\n",
       "      <td>0.000000e+00</td>\n",
       "      <td>0.000000</td>\n",
       "      <td>10.000000</td>\n",
       "      <td>1.500000</td>\n",
       "      <td>1960.000000</td>\n",
       "      <td>0.000000e+00</td>\n",
       "      <td>0.000000e+00</td>\n",
       "    </tr>\n",
       "    <tr>\n",
       "      <td>25%</td>\n",
       "      <td>10247.500000</td>\n",
       "      <td>0.231581</td>\n",
       "      <td>0.000000e+00</td>\n",
       "      <td>0.000000e+00</td>\n",
       "      <td>90.000000</td>\n",
       "      <td>18.000000</td>\n",
       "      <td>5.400000</td>\n",
       "      <td>1994.000000</td>\n",
       "      <td>0.000000e+00</td>\n",
       "      <td>0.000000e+00</td>\n",
       "    </tr>\n",
       "    <tr>\n",
       "      <td>50%</td>\n",
       "      <td>18725.500000</td>\n",
       "      <td>0.418755</td>\n",
       "      <td>1.403930e+05</td>\n",
       "      <td>0.000000e+00</td>\n",
       "      <td>100.000000</td>\n",
       "      <td>46.000000</td>\n",
       "      <td>6.000000</td>\n",
       "      <td>2005.000000</td>\n",
       "      <td>2.410618e+05</td>\n",
       "      <td>0.000000e+00</td>\n",
       "    </tr>\n",
       "    <tr>\n",
       "      <td>75%</td>\n",
       "      <td>70586.750000</td>\n",
       "      <td>0.774232</td>\n",
       "      <td>1.900000e+07</td>\n",
       "      <td>3.064621e+07</td>\n",
       "      <td>112.000000</td>\n",
       "      <td>172.000000</td>\n",
       "      <td>6.600000</td>\n",
       "      <td>2011.000000</td>\n",
       "      <td>2.439107e+07</td>\n",
       "      <td>4.255193e+07</td>\n",
       "    </tr>\n",
       "    <tr>\n",
       "      <td>max</td>\n",
       "      <td>417859.000000</td>\n",
       "      <td>32.985763</td>\n",
       "      <td>4.250000e+08</td>\n",
       "      <td>2.781506e+09</td>\n",
       "      <td>877.000000</td>\n",
       "      <td>9767.000000</td>\n",
       "      <td>8.700000</td>\n",
       "      <td>2015.000000</td>\n",
       "      <td>4.250000e+08</td>\n",
       "      <td>2.827124e+09</td>\n",
       "    </tr>\n",
       "  </tbody>\n",
       "</table>\n",
       "</div>"
      ],
      "text/plain": [
       "                  id   popularity        budget       revenue      runtime  \\\n",
       "count    9806.000000  9806.000000  9.806000e+03  9.806000e+03  9806.000000   \n",
       "mean    63287.653783     0.693143  1.612525e+07  4.407785e+07   102.744340   \n",
       "std     90808.473021     1.035525  3.216819e+07  1.224038e+08    28.134561   \n",
       "min         5.000000     0.000188  0.000000e+00  0.000000e+00     0.000000   \n",
       "25%     10247.500000     0.231581  0.000000e+00  0.000000e+00    90.000000   \n",
       "50%     18725.500000     0.418755  1.403930e+05  0.000000e+00   100.000000   \n",
       "75%     70586.750000     0.774232  1.900000e+07  3.064621e+07   112.000000   \n",
       "max    417859.000000    32.985763  4.250000e+08  2.781506e+09   877.000000   \n",
       "\n",
       "        vote_count  vote_average  release_year    budget_adj   revenue_adj  \n",
       "count  9806.000000   9806.000000   9806.000000  9.806000e+03  9.806000e+03  \n",
       "mean    238.622578      5.966459   2000.890271  1.935070e+07  5.685528e+07  \n",
       "std     602.081472      0.914291     13.032372  3.562179e+07  1.512243e+08  \n",
       "min      10.000000      1.500000   1960.000000  0.000000e+00  0.000000e+00  \n",
       "25%      18.000000      5.400000   1994.000000  0.000000e+00  0.000000e+00  \n",
       "50%      46.000000      6.000000   2005.000000  2.410618e+05  0.000000e+00  \n",
       "75%     172.000000      6.600000   2011.000000  2.439107e+07  4.255193e+07  \n",
       "max    9767.000000      8.700000   2015.000000  4.250000e+08  2.827124e+09  "
      ]
     },
     "execution_count": 35,
     "metadata": {},
     "output_type": "execute_result"
    }
   ],
   "source": [
    "# Checking for consistency\n",
    "movie_df.describe()"
   ]
  },
  {
   "cell_type": "code",
   "execution_count": 36,
   "metadata": {},
   "outputs": [
    {
     "data": {
      "text/html": [
       "<div>\n",
       "<style scoped>\n",
       "    .dataframe tbody tr th:only-of-type {\n",
       "        vertical-align: middle;\n",
       "    }\n",
       "\n",
       "    .dataframe tbody tr th {\n",
       "        vertical-align: top;\n",
       "    }\n",
       "\n",
       "    .dataframe thead th {\n",
       "        text-align: right;\n",
       "    }\n",
       "</style>\n",
       "<table border=\"1\" class=\"dataframe\">\n",
       "  <thead>\n",
       "    <tr style=\"text-align: right;\">\n",
       "      <th></th>\n",
       "      <th>id</th>\n",
       "      <th>popularity</th>\n",
       "      <th>budget</th>\n",
       "      <th>revenue</th>\n",
       "      <th>original_title</th>\n",
       "      <th>director</th>\n",
       "      <th>runtime</th>\n",
       "      <th>genres</th>\n",
       "      <th>production_companies</th>\n",
       "      <th>vote_count</th>\n",
       "      <th>vote_average</th>\n",
       "      <th>release_year</th>\n",
       "      <th>budget_adj</th>\n",
       "      <th>revenue_adj</th>\n",
       "    </tr>\n",
       "  </thead>\n",
       "  <tbody>\n",
       "    <tr>\n",
       "      <td>0</td>\n",
       "      <td>135397</td>\n",
       "      <td>32.985763</td>\n",
       "      <td>150000000.0</td>\n",
       "      <td>1.513529e+09</td>\n",
       "      <td>Jurassic World</td>\n",
       "      <td>Colin Trevorrow</td>\n",
       "      <td>124</td>\n",
       "      <td>Action|Adventure|Science Fiction|Thriller</td>\n",
       "      <td>Universal Studios|Amblin Entertainment|Legenda...</td>\n",
       "      <td>5562</td>\n",
       "      <td>6.5</td>\n",
       "      <td>2015</td>\n",
       "      <td>1.379999e+08</td>\n",
       "      <td>1.392446e+09</td>\n",
       "    </tr>\n",
       "    <tr>\n",
       "      <td>1</td>\n",
       "      <td>76341</td>\n",
       "      <td>28.419936</td>\n",
       "      <td>150000000.0</td>\n",
       "      <td>3.784364e+08</td>\n",
       "      <td>Mad Max: Fury Road</td>\n",
       "      <td>George Miller</td>\n",
       "      <td>120</td>\n",
       "      <td>Action|Adventure|Science Fiction|Thriller</td>\n",
       "      <td>Village Roadshow Pictures|Kennedy Miller Produ...</td>\n",
       "      <td>6185</td>\n",
       "      <td>7.1</td>\n",
       "      <td>2015</td>\n",
       "      <td>1.379999e+08</td>\n",
       "      <td>3.481613e+08</td>\n",
       "    </tr>\n",
       "    <tr>\n",
       "      <td>2</td>\n",
       "      <td>262500</td>\n",
       "      <td>13.112507</td>\n",
       "      <td>110000000.0</td>\n",
       "      <td>2.952382e+08</td>\n",
       "      <td>Insurgent</td>\n",
       "      <td>Robert Schwentke</td>\n",
       "      <td>119</td>\n",
       "      <td>Adventure|Science Fiction|Thriller</td>\n",
       "      <td>Summit Entertainment|Mandeville Films|Red Wago...</td>\n",
       "      <td>2480</td>\n",
       "      <td>6.3</td>\n",
       "      <td>2015</td>\n",
       "      <td>1.012000e+08</td>\n",
       "      <td>2.716190e+08</td>\n",
       "    </tr>\n",
       "    <tr>\n",
       "      <td>3</td>\n",
       "      <td>140607</td>\n",
       "      <td>11.173104</td>\n",
       "      <td>200000000.0</td>\n",
       "      <td>2.068178e+09</td>\n",
       "      <td>Star Wars: The Force Awakens</td>\n",
       "      <td>J.J. Abrams</td>\n",
       "      <td>136</td>\n",
       "      <td>Action|Adventure|Science Fiction|Fantasy</td>\n",
       "      <td>Lucasfilm|Truenorth Productions|Bad Robot</td>\n",
       "      <td>5292</td>\n",
       "      <td>7.5</td>\n",
       "      <td>2015</td>\n",
       "      <td>1.839999e+08</td>\n",
       "      <td>1.902723e+09</td>\n",
       "    </tr>\n",
       "    <tr>\n",
       "      <td>4</td>\n",
       "      <td>168259</td>\n",
       "      <td>9.335014</td>\n",
       "      <td>190000000.0</td>\n",
       "      <td>1.506249e+09</td>\n",
       "      <td>Furious 7</td>\n",
       "      <td>James Wan</td>\n",
       "      <td>137</td>\n",
       "      <td>Action|Crime|Thriller</td>\n",
       "      <td>Universal Pictures|Original Film|Media Rights ...</td>\n",
       "      <td>2947</td>\n",
       "      <td>7.3</td>\n",
       "      <td>2015</td>\n",
       "      <td>1.747999e+08</td>\n",
       "      <td>1.385749e+09</td>\n",
       "    </tr>\n",
       "  </tbody>\n",
       "</table>\n",
       "</div>"
      ],
      "text/plain": [
       "       id  popularity       budget       revenue  \\\n",
       "0  135397   32.985763  150000000.0  1.513529e+09   \n",
       "1   76341   28.419936  150000000.0  3.784364e+08   \n",
       "2  262500   13.112507  110000000.0  2.952382e+08   \n",
       "3  140607   11.173104  200000000.0  2.068178e+09   \n",
       "4  168259    9.335014  190000000.0  1.506249e+09   \n",
       "\n",
       "                 original_title          director  runtime  \\\n",
       "0                Jurassic World   Colin Trevorrow      124   \n",
       "1            Mad Max: Fury Road     George Miller      120   \n",
       "2                     Insurgent  Robert Schwentke      119   \n",
       "3  Star Wars: The Force Awakens       J.J. Abrams      136   \n",
       "4                     Furious 7         James Wan      137   \n",
       "\n",
       "                                      genres  \\\n",
       "0  Action|Adventure|Science Fiction|Thriller   \n",
       "1  Action|Adventure|Science Fiction|Thriller   \n",
       "2         Adventure|Science Fiction|Thriller   \n",
       "3   Action|Adventure|Science Fiction|Fantasy   \n",
       "4                      Action|Crime|Thriller   \n",
       "\n",
       "                                production_companies  vote_count  \\\n",
       "0  Universal Studios|Amblin Entertainment|Legenda...        5562   \n",
       "1  Village Roadshow Pictures|Kennedy Miller Produ...        6185   \n",
       "2  Summit Entertainment|Mandeville Films|Red Wago...        2480   \n",
       "3          Lucasfilm|Truenorth Productions|Bad Robot        5292   \n",
       "4  Universal Pictures|Original Film|Media Rights ...        2947   \n",
       "\n",
       "   vote_average  release_year    budget_adj   revenue_adj  \n",
       "0           6.5          2015  1.379999e+08  1.392446e+09  \n",
       "1           7.1          2015  1.379999e+08  3.481613e+08  \n",
       "2           6.3          2015  1.012000e+08  2.716190e+08  \n",
       "3           7.5          2015  1.839999e+08  1.902723e+09  \n",
       "4           7.3          2015  1.747999e+08  1.385749e+09  "
      ]
     },
     "execution_count": 36,
     "metadata": {},
     "output_type": "execute_result"
    }
   ],
   "source": [
    "# dataframe after performing data wrangling\n",
    "movie_df.head()"
   ]
  },
  {
   "cell_type": "code",
   "execution_count": 37,
   "metadata": {},
   "outputs": [
    {
     "name": "stdout",
     "output_type": "stream",
     "text": [
      "Dataframe contains 9806 number of movies after data cleaning\n",
      "Dataframe contains 14 number of movie attributes after data cleaning\n"
     ]
    }
   ],
   "source": [
    "# datframe shape after data wrangling\n",
    "print('Dataframe contains {} number of movies after data cleaning'.format(movie_df.shape[0]))\n",
    "print('Dataframe contains {} number of movie attributes after data cleaning'.format(movie_df.shape[1]))"
   ]
  },
  {
   "cell_type": "markdown",
   "metadata": {},
   "source": [
    ">### Summary of Data Wrangling\n",
    "- Initially started inspecting general properties of dataframe like `shape`, `nulls`, and `dtypes`.\n",
    "- Removed the columns containing `nulls` and the columns that are not necessary for my analysis.\n",
    "- Inspected for duplicates, found only `1` duplicate and dropped from the dataframe.\n",
    "- Next, inspected for number of rows with `nulls` and dropped from the dataframe.\n",
    "- Finally, inspected for data types and converted `budget`, `revenue` and `runtime` columns to `floats`.\n",
    "- After all these data wrangling steps I ended up with `9806` rows and `14` columns."
   ]
  },
  {
   "cell_type": "markdown",
   "metadata": {},
   "source": [
    "<a id='eda'></a>\n",
    "## Exploratory Data Analysis\n",
    "\n",
    "> In this step I'll explore my data to compute statistics and create visualizations with the goal of addressing the research questions that I have posed in the Introduction section.\n",
    "\n",
    "### Research Question 1 (Which genres are receiving higher user ratings?)"
   ]
  },
  {
   "cell_type": "code",
   "execution_count": 40,
   "metadata": {},
   "outputs": [
    {
     "data": {
      "text/plain": [
       "genres\n",
       "Family|Animation|Fantasy                             8.0\n",
       "Mystery|Documentary|Crime                            8.0\n",
       "Fantasy|Drama|Crime                                  8.0\n",
       "History|Drama|Thriller|War                           8.0\n",
       "Romance|Comedy|Animation|Drama|Family                8.0\n",
       "Animation|Drama|Fantasy                              7.9\n",
       "Fantasy|Animation|Comedy|Drama                       7.9\n",
       "Action|Thriller|Science Fiction|Mystery|Adventure    7.9\n",
       "Science Fiction|Adventure|Drama|Fantasy              7.9\n",
       "Science Fiction|Drama|Romance|Fantasy                7.8\n",
       "Name: vote_average, dtype: float64"
      ]
     },
     "execution_count": 40,
     "metadata": {},
     "output_type": "execute_result"
    }
   ],
   "source": [
    "# top 10 genres with higher average user rating\n",
    "top_10_genres = movie_df.groupby(['genres']).mean()['vote_average'].sort_values(ascending = False)[: 10]\n",
    "top_10_genres"
   ]
  },
  {
   "cell_type": "markdown",
   "metadata": {},
   "source": [
    ">### Action 1 for Q1\n",
    "- For answering, which genres are receiving higher user ratings? I have used `groupby()` function to group by `genres` and then taking `mean()` found the average user ratings for top `10` genres.\n",
    "- The below bar chart showcases the same thing visually."
   ]
  },
  {
   "cell_type": "code",
   "execution_count": 58,
   "metadata": {},
   "outputs": [],
   "source": [
    "# function for plotting horizontal bar chart\n",
    "def plot_barh(arr1, arr2, xlabel, ylabel, title):\n",
    "    plt.barh(top_10_genres.index, top_10_genres.values)\n",
    "    plt.xlabel(xlabel)\n",
    "    plt.ylabel(ylabel)\n",
    "    plt.title(title)\n",
    "    plt.show()"
   ]
  },
  {
   "cell_type": "code",
   "execution_count": 59,
   "metadata": {},
   "outputs": [
    {
     "data": {
      "image/png": "[encoded data removed]",
      "text/plain": [
       "<Figure size 432x288 with 1 Axes>"
      ]
     },
     "metadata": {},
     "output_type": "display_data"
    }
   ],
   "source": [
    "# plot for top 10 genres by user ratings\n",
    "arr1 = top_10_genres.index\n",
    "arr2 = top_10_genres.values\n",
    "xlabel = 'Mean Vote Average'\n",
    "ylabel = 'Genres'\n",
    "title = 'Top 10 Genres by User Ratings'\n",
    "plot_barh(arr1, arr2, xlabel, ylabel, title)"
   ]
  },
  {
   "cell_type": "code",
   "execution_count": 57,
   "metadata": {},
   "outputs": [
    {
     "data": {
      "text/plain": [
       "genres\n",
       "Action|Thriller|Science Fiction|Mystery|Adventure    9767.0\n",
       "Science Fiction|Adventure|Fantasy                    7080.0\n",
       "Drama|Adventure|Science Fiction                      4572.0\n",
       "Science Fiction|Thriller|Action|Adventure            4269.0\n",
       "Adventure|Family|Animation|Action|Comedy             4185.0\n",
       "Western|Drama|Adventure|Thriller                     3929.0\n",
       "Fantasy|Animation|Family|Comedy                      3899.0\n",
       "Crime|Comedy|Action|Adventure                        3833.0\n",
       "Adventure|Comedy|Science Fiction|Family              3785.0\n",
       "Action|Science Fiction|Adventure|Mystery             3729.0\n",
       "Name: vote_count, dtype: float64"
      ]
     },
     "execution_count": 57,
     "metadata": {},
     "output_type": "execute_result"
    }
   ],
   "source": [
    "# top 10 genres based on average vote count \n",
    "top_10_genres_count = movie_df.groupby(['genres']).mean()['vote_count'].sort_values(ascending = False)[: 10]\n",
    "top_10_genres_count"
   ]
  },
  {
   "cell_type": "markdown",
   "metadata": {},
   "source": [
    ">### Action 2 for Q1\n",
    "- Same question is answered in different angle by using `vote_count` instead of `vote_average`.\n",
    "- This time the top 10 genres are different from what I got in previous step.\n",
    "- The below bar chart shows the top 10 genres based on average `vote_count`"
   ]
  },
  {
   "cell_type": "code",
   "execution_count": 61,
   "metadata": {},
   "outputs": [
    {
     "data": {
      "image/png": "[encoded data removed]",
      "text/plain": [
       "<Figure size 432x288 with 1 Axes>"
      ]
     },
     "metadata": {},
     "output_type": "display_data"
    }
   ],
   "source": [
    "# plot for genres by average vote count\n",
    "arr1 = top_10_genres_count.index\n",
    "arr2 = top_10_genres_count.values\n",
    "xlabel = 'Average Vote Count'\n",
    "ylabel = 'Genres'\n",
    "title = 'Top 10 Genres by Average Vote Count'\n",
    "plot_barh(arr1, arr2, xlabel, ylabel, title)"
   ]
  },
  {
   "cell_type": "markdown",
   "metadata": {},
   "source": [
    "### Research Question 2  (What kinds of properties are associated with movies that have high revenues?)"
   ]
  },
  {
   "cell_type": "code",
   "execution_count": 91,
   "metadata": {},
   "outputs": [
    {
     "data": {
      "text/plain": [
       "56855277.83124021"
      ]
     },
     "execution_count": 91,
     "metadata": {},
     "output_type": "execute_result"
    }
   ],
   "source": [
    "# Average revenue_adj\n",
    "movie_df.revenue_adj.mean()"
   ]
  },
  {
   "cell_type": "code",
   "execution_count": 124,
   "metadata": {},
   "outputs": [],
   "source": [
    "# percentage of high and low revenue movies\n",
    "high_revenue_count = movie_df[movie_df.revenue_adj > 5.705309e+07].shape[0] / movie_df.shape[0] * 100\n",
    "low_revenue_count= movie_df[movie_df.revenue_adj <= 5.705309e+07].shape[0] / movie_df.shape[0] * 100"
   ]
  },
  {
   "cell_type": "code",
   "execution_count": 125,
   "metadata": {},
   "outputs": [
    {
     "data": {
      "image/png": "[encoded data removed]",
      "text/plain": [
       "<Figure size 432x288 with 1 Axes>"
      ]
     },
     "metadata": {},
     "output_type": "display_data"
    }
   ],
   "source": [
    "plt.pie([high_revenue_count, low_revenue_count], labels = ['high_revenue', 'low_revenue'], startangle = 90, counterclock = False)\n",
    "plt.title('Percentage of High and Low Revenue Movies');"
   ]
  },
  {
   "cell_type": "code",
   "execution_count": 126,
   "metadata": {},
   "outputs": [
    {
     "data": {
      "text/plain": [
       "(22.047725882112992, 77.95227411788701)"
      ]
     },
     "execution_count": 126,
     "metadata": {},
     "output_type": "execute_result"
    }
   ],
   "source": [
    "high_revenue_count, low_revenue_count"
   ]
  },
  {
   "cell_type": "markdown",
   "metadata": {},
   "source": [
    "Before investigating further I found the percentage of high and low revenue movies.\n",
    "- Percentage of high revenue movies is `22.05%`.\n",
    "- Percentage of low revenue movies is `77.95%`."
   ]
  },
  {
   "cell_type": "markdown",
   "metadata": {},
   "source": [
    ">### Action 1 for Q2\n",
    "- In order to investigate, what kind of properties are associated with movies that have high revenues? I'm gonna calculate and visual various properties. \n",
    "- To do so I found `2` segments of data as `high_revenue` and `low_revenue` based on `mean` value of `revenue_adj`."
   ]
  },
  {
   "cell_type": "code",
   "execution_count": 97,
   "metadata": {},
   "outputs": [],
   "source": [
    "# Mean vote average based on revenue(high and low)\n",
    "high_votes_mean = movie_df[movie_df.revenue_adj > 5.705309e+07].vote_average.mean()\n",
    "low_votes_mean = movie_df[movie_df.revenue_adj <= 5.705309e+07].vote_average.mean()"
   ]
  },
  {
   "cell_type": "markdown",
   "metadata": {},
   "source": [
    ">### Action 2 for Q2\n",
    "- Based on the mean of `revenue_adj` the following things are performed:\n",
    "    - I have calculated `high_votes_mean` which is the average user rating for movies generating `revenue_adj` greater than `mean` of `revenue_adj`.\n",
    "    - I also calculated `low_votes_means` which is the the average user rating for movies generating `revenue_adj` less than `mean` of `revenue_adj`.\n",
    "- Below is the bar chart showcasing the same thing."
   ]
  },
  {
   "cell_type": "code",
   "execution_count": 98,
   "metadata": {},
   "outputs": [],
   "source": [
    "# function for plotting bar chart with given parameters\n",
    "def plot_chart(locations, labels, heights, xlabel, ylabel, title, width):\n",
    "    plt.bar(locations, heights, tick_label = labels, width = 0.5)\n",
    "    plt.xlabel(xlabel)\n",
    "    plt.ylabel(ylabel)\n",
    "    plt.title(title)\n",
    "    plt.show()"
   ]
  },
  {
   "cell_type": "code",
   "execution_count": 99,
   "metadata": {},
   "outputs": [
    {
     "data": {
      "image/png": "[encoded data removed]",
      "text/plain": [
       "<Figure size 432x288 with 1 Axes>"
      ]
     },
     "metadata": {},
     "output_type": "display_data"
    }
   ],
   "source": [
    "locations = [1, 2]\n",
    "labels = ['low', 'high']\n",
    "heights = [low_votes_mean, high_votes_mean]\n",
    "xlabel = 'Revenue'\n",
    "ylabel = 'Mean Vote Average'\n",
    "title = 'Mean Vote Average by Revenue'\n",
    "plot_chart(locations, labels, heights, xlabel, ylabel, title, width = 0.5)"
   ]
  },
  {
   "cell_type": "markdown",
   "metadata": {},
   "source": [
    ">### Conclusion 1 for Q2\n",
    "- Based on the above bar chart for `Mean Vote Average by Revenue` it is found that movies with higher revenue have higher user ratings than the movies with lower revenue."
   ]
  },
  {
   "cell_type": "code",
   "execution_count": 100,
   "metadata": {},
   "outputs": [],
   "source": [
    "high_votes_count = movie_df[movie_df.revenue_adj > 5.705309e+07].vote_count.mean()\n",
    "low_votes_count = movie_df[movie_df.revenue_adj <= 5.705309e+07].vote_count.mean()"
   ]
  },
  {
   "cell_type": "markdown",
   "metadata": {},
   "source": [
    ">### Action 3 for Q2\n",
    "- Based on the mean of `revenue_adj` the following things are performed:\n",
    "    - I have calculated `high_votes_counts` which is the average vote count for movies generating `revenue_adj` greater than `mean` of `revenue_adj`.\n",
    "    - I also calculated `low_votes_counts` which is the the average vote count for movies generating `revenue_adj` less than `mean` of `revenue_adj`.\n",
    "- Below is the bar chart showcasing the same thing."
   ]
  },
  {
   "cell_type": "code",
   "execution_count": 101,
   "metadata": {},
   "outputs": [
    {
     "data": {
      "image/png": "[encoded data removed]",
      "text/plain": [
       "<Figure size 432x288 with 1 Axes>"
      ]
     },
     "metadata": {},
     "output_type": "display_data"
    }
   ],
   "source": [
    "locations = [1, 2]\n",
    "labels = ['low', 'high']\n",
    "heights = [low_votes_count, high_votes_count]\n",
    "xlabel = 'Revenue'\n",
    "ylabel = 'Mean Vote Count'\n",
    "title = 'Mean Vote Count by Revenue'\n",
    "plot_chart(locations, labels, heights, xlabel, ylabel, title, width = 0.5)"
   ]
  },
  {
   "cell_type": "markdown",
   "metadata": {},
   "source": [
    ">### Conclusion 2 for Q2\n",
    "- Based on the above bar chart for `Mean Vote Count by Revenue` it is found that movies with higher revenue have higher vote counts than the movies with lower revenue."
   ]
  },
  {
   "cell_type": "code",
   "execution_count": 102,
   "metadata": {},
   "outputs": [],
   "source": [
    "high_popularity = movie_df[movie_df.revenue_adj > 5.705309e+07].popularity.mean()\n",
    "low_popularity = movie_df[movie_df.revenue_adj <= 5.705309e+07].popularity.mean()"
   ]
  },
  {
   "cell_type": "markdown",
   "metadata": {},
   "source": [
    ">### Action 4 for Q2\n",
    "- Based on the mean of `revenue_adj` the following things are performed:\n",
    "    - I have calculated `high_popularity` which is the average popularity for movies generating `revenue_adj` greater than `mean` of `revenue_adj`.\n",
    "    - I also calculated `low_popularity` which is the the average popularity for movies generating `revenue_adj` less than `mean` of `revenue_adj`.\n",
    "- Below is the bar chart showcasing the same thing."
   ]
  },
  {
   "cell_type": "code",
   "execution_count": 103,
   "metadata": {},
   "outputs": [
    {
     "data": {
      "image/png": "[encoded data removed]",
      "text/plain": [
       "<Figure size 432x288 with 1 Axes>"
      ]
     },
     "metadata": {},
     "output_type": "display_data"
    }
   ],
   "source": [
    "locations = [1, 2]\n",
    "labels = ['low', 'high']\n",
    "heights = [low_popularity, high_popularity]\n",
    "xlabel = 'Popularity'\n",
    "ylabel = 'Average Popularity'\n",
    "title = 'Average Popularity by Revenue'\n",
    "plot_chart(locations, labels, heights, xlabel, ylabel, title, width = 0.5)"
   ]
  },
  {
   "cell_type": "markdown",
   "metadata": {},
   "source": [
    ">### Conclusion 3 for Q2\n",
    "- Based on the above bar chart for `Average Popularity by Revenue` it is found that movies with higher revenue have higher popularity than the movies with lower revenue."
   ]
  },
  {
   "cell_type": "markdown",
   "metadata": {},
   "source": [
    "### Research Question 3  (Does higher budget movies have higher user ratings?)"
   ]
  },
  {
   "cell_type": "code",
   "execution_count": 127,
   "metadata": {},
   "outputs": [
    {
     "data": {
      "text/plain": [
       "19350695.509587873"
      ]
     },
     "execution_count": 127,
     "metadata": {},
     "output_type": "execute_result"
    }
   ],
   "source": [
    "# Average budget_adj \n",
    "movie_df.budget_adj.mean()"
   ]
  },
  {
   "cell_type": "code",
   "execution_count": 131,
   "metadata": {},
   "outputs": [],
   "source": [
    "# Mean vote average by budget for low and high revenue movies\n",
    "high_budget_votes = movie_df[movie_df.budget_adj > 1.935070e+07].vote_average.mean()\n",
    "low_budget_votes = movie_df[movie_df.budget_adj <= 1.935070e+07].vote_average.mean()"
   ]
  },
  {
   "cell_type": "markdown",
   "metadata": {},
   "source": [
    ">### Action 1 for Q3\n",
    "- Based on the mean of `budget_adj` the following things are performed:\n",
    "    - I have calculated `high_budget_votes` which is the average user ratings for movies with `budget_adj` greater than `mean` of `budget_adj`.\n",
    "    - I also calculated `low_budget_votes` which is the the average user ratings for movies with `budget_adj` less than `mean` of `budget_adj`.\n",
    "- Below is the bar chart showcasing the same thing."
   ]
  },
  {
   "cell_type": "code",
   "execution_count": 132,
   "metadata": {},
   "outputs": [
    {
     "data": {
      "image/png": "[encoded data removed]",
      "text/plain": [
       "<Figure size 432x288 with 1 Axes>"
      ]
     },
     "metadata": {},
     "output_type": "display_data"
    }
   ],
   "source": [
    "locations = [1, 2]\n",
    "labels = ['low', 'high']\n",
    "heights = [low_budget_votes, high_budget_votes]\n",
    "xlabel = 'Budget'\n",
    "ylabel = 'Mean Vote Average'\n",
    "title = 'Mean Vote Average by Budget'\n",
    "plot_chart(locations, labels, heights, xlabel, ylabel, title, width = 0.5)"
   ]
  },
  {
   "cell_type": "markdown",
   "metadata": {},
   "source": [
    ">### Conclusion 1 for Q3\n",
    "- Based on the above bar chart for `Mean Vote Average by Budget` it is found that movies with higher budget have higher user ratings than the movies with lower revenue."
   ]
  },
  {
   "cell_type": "code",
   "execution_count": null,
   "metadata": {},
   "outputs": [],
   "source": []
  },
  {
   "cell_type": "code",
   "execution_count": null,
   "metadata": {},
   "outputs": [],
   "source": []
  }
 ],
 "metadata": {
  "kernelspec": {
   "display_name": "Python 3",
   "language": "python",
   "name": "python3"
  },
  "language_info": {
   "codemirror_mode": {
    "name": "ipython",
    "version": 3
   },
   "file_extension": ".py",
   "mimetype": "text/x-python",
   "name": "python",
   "nbconvert_exporter": "python",
   "pygments_lexer": "ipython3",
   "version": "3.7.4"
  }
 },
 "nbformat": 4,
 "nbformat_minor": 2
}
